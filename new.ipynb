{
 "cells": [
  {
   "cell_type": "code",
   "execution_count": 93,
   "metadata": {},
   "outputs": [],
   "source": [
    "import weaviate\n",
    "\n",
    "def create_schema(client):\n",
    "    schema = {\n",
    "        \"classes\": [\n",
    "            {\n",
    "                \"class\": \"GrapeData\",\n",
    "                \"properties\": [\n",
    "                    {\"name\": \"content\", \"dataType\": [\"text\"]}\n",
    "                ]\n",
    "            }\n",
    "        ]\n",
    "    }\n",
    "    client.schema.create(schema)\n",
    "\n",
    "def insert_data(client, text):\n",
    "    data_object = {\n",
    "        \"content\": text\n",
    "    }\n",
    "    client.data_object.create(data_object, \"GrapeData\")\n",
    "\n",
    "# Connect to Weaviate instance\n",
    "client = weaviate.Client(\"http://localhost:8080\")\n",
    "\n",
    "# Create schema and insert data\n",
    "create_schema(client)"
   ]
  },
  {
   "cell_type": "code",
   "execution_count": 128,
   "metadata": {},
   "outputs": [],
   "source": [
    "large_text =  \"\"\"Storage\n",
    "Pre-cooling \n",
    "The grapes should be  transported to pre-cooling units  within 4-6 hours of harvest. The  temperature of harvested grapes  should be brought down to less than  4°C within six to eight hours in the  pre-cooling chambers. If the pre cooling units are away from the  production sites and packing houses,  mobile pre-cooling units are to be  used. The filled boxes without closing  the polyethylene liner are placed in  the pre-cooling chambers. \n",
    "\n",
    "\n",
    "Cold storage \n",
    "After pre-cooling, the dual  releasing sulphur dioxide pads (Grape  guard) are placed with their coated  surfaces facing downwards on the  filled plastic pouches and covered  with the plastic sheet lining. The  boxes are closed and shifted to cold  storage rooms where the temperature  and humidity are maintained at 0 ±  0.50C and 93 ± 2% respectively.  Temperature of 0°C and humidity of  95% are the best for maintaining  freshness and preventing decay.\n",
    "Transport \n",
    "Conveyances and/or containers  used for transporting food stuffs shall  be kept clean and maintained in good  conditions in order to protect  foodstuffs from contamination and  dust. These containers must be  capable of maintaining appropriate  temperatures which should be monitored at regular intervals.\n",
    "\"\"\""
   ]
  },
  {
   "cell_type": "code",
   "execution_count": 129,
   "metadata": {},
   "outputs": [
    {
     "name": "stdout",
     "output_type": "stream",
     "text": [
      "{'content': 'Storage\\nPre-cooling \\nThe grapes should be  transported to pre-cooling units  within 4-6 hours of harvest.'}\n",
      "{'content': 'The  temperature of harvested grapes  should be brought down to less than  4°C within six to eight hours in the  pre-cooling chambers.'}\n",
      "{'content': 'If the pre cooling units are away from the  production sites and packing houses,  mobile pre-cooling units are to be  used.'}\n",
      "{'content': 'The filled boxes without closing  the polyethylene liner are placed in  the pre-cooling chambers.'}\n",
      "{'content': '\\n\\n\\nCold storage \\nAfter pre-cooling, the dual  releasing sulphur dioxide pads (Grape  guard) are placed with their coated  surfaces facing downwards on the  filled plastic pouches and covered  with the plastic sheet lining.'}\n",
      "{'content': 'The  boxes are closed and shifted to cold  storage rooms where the temperature  and humidity are maintained at 0 ±  0.50C and 93 ± 2% respectively.'}\n",
      "{'content': ' Temperature of 0°C and humidity of  95% are the best for maintaining  freshness and preventing decay.'}\n",
      "{'content': 'Transport \\nConveyances and/or containers  used for transporting food stuffs shall  be kept clean and maintained in good  conditions in order to protect  foodstuffs from contamination and  dust.'}\n",
      "{'content': 'These containers must be  capable of maintaining appropriate  temperatures which should be monitored at regular intervals.'}\n",
      "{'content': ''}\n"
     ]
    }
   ],
   "source": [
    "import re\n",
    "\n",
    "def split_into_sentences(text):\n",
    "    \"\"\"\n",
    "    Splits the text into sentences using regular expressions.\n",
    "    \"\"\"\n",
    "    # Regular expression pattern for sentence splitting\n",
    "    pattern = r'(?<!\\w\\.\\w.)(?<![A-Z][a-z]\\.)(?<=\\.|\\?)\\s'\n",
    "    sentences = re.split(pattern, text)\n",
    "    return sentences\n",
    "\n",
    "\n",
    "sentences = split_into_sentences(large_text)\n",
    "for chunk in sentences:\n",
    "    data_object = {\"content\": chunk}\n",
    "    print(data_object)\n",
    "    client.data_object.create(data_object, \"GrapeData\")"
   ]
  },
  {
   "cell_type": "code",
   "execution_count": 142,
   "metadata": {},
   "outputs": [
    {
     "name": "stdout",
     "output_type": "stream",
     "text": [
      "Disease management in Grapes\n",
      "Downy mildew, powdery mildew  and anthracnose are the three  important diseases caused by fungal  pathogens and require warm and wet  / humid conditions for causing  infections.\n",
      "Sprays of copper-based fungicides can restrict the infection of the bacterium Xanthomonas and are useful in avoiding the development of resistance in anthracnose pathogens against systemic fungicides.\n"
     ]
    }
   ],
   "source": [
    "import openai\n",
    "\n",
    "import json\n",
    "\n",
    "def query_weaviate(client, query):\n",
    "    gql_query = \"\"\"\n",
    "    {\n",
    "      Get {\n",
    "        GrapeData (nearText: {concepts: [\"%s\"], certainty: 0.9}) {\n",
    "          content\n",
    "        }\n",
    "      }\n",
    "    }\n",
    "    \"\"\" % query\n",
    "\n",
    "    result = client.query.raw(gql_query)\n",
    "    return result\n",
    "\n",
    "\n",
    "\n",
    "weaviate_results = query_weaviate(client, \"diseases caused by fungal pathogens\")\n",
    "#print each content\n",
    "ans = [weaviate_results['data']['Get']['GrapeData'][i]['content'] for i in range(len(weaviate_results['data']['Get']['GrapeData']))]\n",
    "for i in ans: print(i)\n",
    "\n",
    "# if weaviate_results.get('data') and weaviate_results['data'].get('Get', {}).get('GrapeDiseaseManagement'):\n",
    "#     for result in weaviate_results['data']['Get']['GrapeDiseaseManagement']:\n",
    "#         text_data = result['content']\n",
    "#         gpt3_response = generate_response_with_gpt3(text_data, \"your-openai-api-key\")\n",
    "#         print(gpt3_response)\n",
    "# else:\n",
    "#     print(\"No relevant data found in Weaviate.\")\n"
   ]
  }
 ],
 "metadata": {
  "kernelspec": {
   "display_name": "Python 3",
   "language": "python",
   "name": "python3"
  },
  "language_info": {
   "codemirror_mode": {
    "name": "ipython",
    "version": 3
   },
   "file_extension": ".py",
   "mimetype": "text/x-python",
   "name": "python",
   "nbconvert_exporter": "python",
   "pygments_lexer": "ipython3",
   "version": "3.11.1"
  }
 },
 "nbformat": 4,
 "nbformat_minor": 2
}
